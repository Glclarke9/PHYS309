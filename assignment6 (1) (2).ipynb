{
 "cells": [
  {
   "cell_type": "markdown",
   "id": "430d2634",
   "metadata": {},
   "source": [
    "# Numerically solving the Schrodinger equation\n",
    "\n",
    "In this assignment you will use [<tt>qmsolve</tt>](https://github.com/quantum-visualizations/qmsolve) to solve the time-independent Schrodinger equation in one dimension and plot the solutions.\n",
    "\n",
    "### First, install <tt>qmsolve</tt> in one of two ways:\n",
    "<ul>\n",
    "    <li>From a <tt>unix</tt> command line, type <tt>pip install qmsolve</tt></li>\n",
    "    <li>Put the following commands in a code cell in this notebook and execute:<br />\n",
    "        <tt>import sys</tt><br />\n",
    "        <tt>!{sys.executable} -m pip install qmsolve</tt></li>\n",
    "</ul>"
   ]
  },
  {
   "cell_type": "markdown",
   "id": "6b0b082f",
   "metadata": {},
   "source": [
    "### Homework problems:\n",
    "\n",
    "<ol start=0>\n",
    "    <li>Follow the link to the <tt>qmsolve</tt> GitHub page above. Click the link for the <tt>examples</tt> folder, then click on the <tt>eigenstate solver examples</tt> folder. Finally, click on <tt>1D_harmonic_oscillator.py</tt> to see a short code snippet that will calculate wavefunctions for a simple harmonic oscillator (SHO).</li>\n",
    "    <li><tt>1D_harmonic_oscillator.py</tt> imports the <tt>Hamiltonian</tt> class from <tt>qmsolve</tt>. In quantum mechanics, what is a Hamiltonian? Please use multiple sources to formulate your answer and cite those sources. For this problem, crowd-sourced references such as Wikipedia and stackexchange are acceptable.</li>\n",
    "    <li>Which force law is defined in the function <tt>harmonic_oscillator()</tt>?</li>\n",
    "    <li>What are the eigenstates referred to in lines 22 and 23 in <tt>1D_harmonic_oscillator.py</tt>? Again, please use multiple sources to formulate your answer and cite those sources.\n",
    "    <li>Code cells 1 and 2 below contain imported code from <tt>1D_harmonic_oscillator.py</tt>, including a visualization of eigenstate 0 of the SHO. In subsequent code cells, plot any five SHO eigenstates of your choice.</li>\n",
    "</ol>\n",
    "\n",
    "Note: you can write your answers to the non-code problems in a markdown cell. From within a new notebook cell, click the box with a double arrow that says \"Code\" and change to \"Markdown\". Then you can just type in the cell like a regular text file."
   ]
  },
  {
   "cell_type": "code",
   "execution_count": 24,
   "id": "03c02a12",
   "metadata": {},
   "outputs": [],
   "source": [
    "#Problem 1:\n",
    "#A Hamiltonian is an operator in quantum mechanics associated with system energy (kinetic and potential)\n",
    "#sources: https://en.wikipedia.org/wiki/Hamiltonian_(quantum_mechanics), https://psiberg.com/hamiltonian-operator/\n",
    "\n",
    "\n",
    "#Problem 2:\n",
    "#F=-kx \n",
    "\n",
    "#Problem 3:\n",
    "#Energy eigenstates that do not change with time, making them useful in solving for a harmonic oscillator\n",
    "#sources: https://physics.stackexchange.com/questions/41070/what-is-an-energy-eigenstate-exactly, \n",
    "#https://www.hep.lu.se/staff/c.jarlskog/chapter5.pdf"
   ]
  },
  {
   "cell_type": "code",
   "execution_count": 30,
   "id": "d11c7709",
   "metadata": {},
   "outputs": [
    {
     "name": "stdout",
     "output_type": "stream",
     "text": [
      "Defaulting to user installation because normal site-packages is not writeable\n",
      "Requirement already satisfied: qmsolve in ./.local/lib/python3.8/site-packages (2.0.0)\n",
      "Requirement already satisfied: scipy in /opt/anaconda3/lib/python3.8/site-packages (from qmsolve) (1.6.2)\n",
      "Requirement already satisfied: h5py in /opt/anaconda3/lib/python3.8/site-packages (from qmsolve) (2.10.0)\n",
      "Requirement already satisfied: numpy in /opt/anaconda3/lib/python3.8/site-packages (from qmsolve) (1.20.1)\n",
      "Requirement already satisfied: progressbar in ./.local/lib/python3.8/site-packages (from qmsolve) (2.5)\n",
      "Requirement already satisfied: matplotlib in /opt/anaconda3/lib/python3.8/site-packages (from qmsolve) (3.3.4)\n",
      "Requirement already satisfied: six in /opt/anaconda3/lib/python3.8/site-packages (from h5py->qmsolve) (1.15.0)\n",
      "Requirement already satisfied: python-dateutil>=2.1 in /opt/anaconda3/lib/python3.8/site-packages (from matplotlib->qmsolve) (2.8.1)\n",
      "Requirement already satisfied: pyparsing!=2.0.4,!=2.1.2,!=2.1.6,>=2.0.3 in /opt/anaconda3/lib/python3.8/site-packages (from matplotlib->qmsolve) (2.4.7)\n",
      "Requirement already satisfied: pillow>=6.2.0 in /opt/anaconda3/lib/python3.8/site-packages (from matplotlib->qmsolve) (8.2.0)\n",
      "Requirement already satisfied: cycler>=0.10 in /opt/anaconda3/lib/python3.8/site-packages (from matplotlib->qmsolve) (0.10.0)\n",
      "Requirement already satisfied: kiwisolver>=1.0.1 in /opt/anaconda3/lib/python3.8/site-packages (from matplotlib->qmsolve) (1.3.1)\n"
     ]
    },
    {
     "ename": "ModuleNotFoundError",
     "evalue": "No module named 'qmsolve'",
     "output_type": "error",
     "traceback": [
      "\u001b[0;31m---------------------------------------------------------------------------\u001b[0m",
      "\u001b[0;31mModuleNotFoundError\u001b[0m                       Traceback (most recent call last)",
      "\u001b[0;32m<ipython-input-30-0b1348f56f41>\u001b[0m in \u001b[0;36m<module>\u001b[0;34m\u001b[0m\n\u001b[1;32m      4\u001b[0m \u001b[0mget_ipython\u001b[0m\u001b[0;34m(\u001b[0m\u001b[0;34m)\u001b[0m\u001b[0;34m.\u001b[0m\u001b[0msystem\u001b[0m\u001b[0;34m(\u001b[0m\u001b[0;34m'{sys.executable} -m pip install qmsolve'\u001b[0m\u001b[0;34m)\u001b[0m\u001b[0;34m\u001b[0m\u001b[0;34m\u001b[0m\u001b[0m\n\u001b[1;32m      5\u001b[0m \u001b[0;34m\u001b[0m\u001b[0m\n\u001b[0;32m----> 6\u001b[0;31m \u001b[0;32mfrom\u001b[0m \u001b[0mqmsolve\u001b[0m \u001b[0;32mimport\u001b[0m \u001b[0mHamiltonian\u001b[0m\u001b[0;34m,\u001b[0m \u001b[0mSingleParticle\u001b[0m\u001b[0;34m,\u001b[0m \u001b[0minit_visualization\u001b[0m\u001b[0;34m,\u001b[0m \u001b[0mÅ\u001b[0m\u001b[0;34m,\u001b[0m \u001b[0meV\u001b[0m\u001b[0;34m\u001b[0m\u001b[0;34m\u001b[0m\u001b[0m\n\u001b[0m",
      "\u001b[0;31mModuleNotFoundError\u001b[0m: No module named 'qmsolve'"
     ]
    }
   ],
   "source": [
    "import numpy as np\n",
    "import matplotlib.pyplot as plt\n",
    "import sys\n",
    "!{sys.executable} -m pip install qmsolve\n",
    "#For some reason it is not letting me import this code, I have followed steps and seeked helped from peers but its not\n",
    "#uploading probably, I did the work despite this but the graphs wont show properly.\n",
    "from qmsolve import Hamiltonian, SingleParticle, init_visualization, Å, eV"
   ]
  },
  {
   "cell_type": "code",
   "execution_count": 5,
   "id": "7578cbdb",
   "metadata": {
    "scrolled": false
   },
   "outputs": [
    {
     "ename": "NameError",
     "evalue": "name 'Hamiltonian' is not defined",
     "output_type": "error",
     "traceback": [
      "\u001b[0;31m---------------------------------------------------------------------------\u001b[0m",
      "\u001b[0;31mNameError\u001b[0m                                 Traceback (most recent call last)",
      "\u001b[0;32m<ipython-input-5-23759685c9b5>\u001b[0m in \u001b[0;36m<module>\u001b[0;34m\u001b[0m\n\u001b[1;32m      5\u001b[0m \u001b[0;34m\u001b[0m\u001b[0m\n\u001b[1;32m      6\u001b[0m \u001b[0;31m# Define the Hamiltonian\u001b[0m\u001b[0;34m\u001b[0m\u001b[0;34m\u001b[0m\u001b[0;34m\u001b[0m\u001b[0m\n\u001b[0;32m----> 7\u001b[0;31m H = Hamiltonian(particles = SingleParticle(), potential = harmonic_oscillator, \n\u001b[0m\u001b[1;32m      8\u001b[0m                 spatial_ndim = 1, N = 512, extent = 20*Å)\n\u001b[1;32m      9\u001b[0m \u001b[0;34m\u001b[0m\u001b[0m\n",
      "\u001b[0;31mNameError\u001b[0m: name 'Hamiltonian' is not defined"
     ]
    }
   ],
   "source": [
    "# Harmonic oscillator potential\n",
    "def harmonic_oscillator(particle):\n",
    "    k = 100 * eV / Å**2\n",
    "    return 0.5 * k * particle.x**2\n",
    "\n",
    "# Define the Hamiltonian\n",
    "H = Hamiltonian(particles = SingleParticle(), potential = harmonic_oscillator, \n",
    "                spatial_ndim = 1, N = 512, extent = 20*Å)\n",
    "\n",
    "#Diagonalize the Hamiltonian and compute the eigenstates\n",
    "eigenstates = H.solve(max_states = 30)\n",
    "\n",
    "# Print out the energies of the eigenstates\n",
    "print(eigenstates.energies) # the printed energies are expressed in eV\n",
    "\n",
    "# Visualize the Eigenstates\n",
    "visualization = init_visualization(eigenstates)\n",
    "visualization.plot_eigenstate(0)\n",
    "visualization.plot_eigenstate(1)\n",
    "visualization.plot_eigenstate(2)\n",
    "visualization.plot_eigenstate(3)\n",
    "visualization.plot_eigenstate(4)\n",
    "visualization.plot_eigenstate(5)"
   ]
  },
  {
   "cell_type": "markdown",
   "id": "975eb584",
   "metadata": {},
   "source": [
    "<ol start=5>\n",
    "    <li>What is on the x-axis of your plots?</li>\n",
    "    <li>Are your plots showing wave functions $\\psi(x)$ or probability functions $\\psi^*(x) \\psi(x)$? How do you know?</li>\n",
    "</ol>\n",
    "\n",
    "### New potential: infinite square well\n",
    "\n",
    "Below I define the infinite square well potential and plot the two lowest-energy eigenstates (compare to Figure 6.3 in your textbook)."
   ]
  },
  {
   "cell_type": "code",
   "execution_count": 3,
   "id": "769a38ef",
   "metadata": {},
   "outputs": [
    {
     "name": "stdout",
     "output_type": "stream",
     "text": [
      "Computing...\n",
      "Took 0.011141061782836914\n",
      "[  0.58926935   2.35704264   5.30321556   9.4276143   14.7299955\n",
      "  21.21004635  28.8673845   37.70155819  47.71204619  58.89825789\n",
      "  71.2595333   84.79514311  99.50428872 115.3861023  132.43964681\n",
      " 150.6639161  170.05783494 190.6202591  212.34997539 235.24570176\n",
      " 259.30608737 284.52971266 310.91508944 338.46066097 367.16480207\n",
      " 397.0258192  428.04195057 460.21136622 493.53216816 528.00239048]\n"
     ]
    },
    {
     "data": {
      "image/png": "[encoded data removed]",
      "text/plain": [
       "<Figure size 668.621x417.888 with 2 Axes>"
      ]
     },
     "metadata": {},
     "output_type": "display_data"
    },
    {
     "data": {
      "image/png": "[encoded data removed]",
      "text/plain": [
       "<Figure size 668.621x417.888 with 2 Axes>"
      ]
     },
     "metadata": {},
     "output_type": "display_data"
    }
   ],
   "source": [
    "# 8 angstrom-wide infinite square well\n",
    "def infinite_square_well(particle):\n",
    "    potential = np.zeros_like(particle.x)\n",
    "    out_of_bounds = np.abs(particle.x) > 4*Å\n",
    "    potential[out_of_bounds] = np.inf\n",
    "    return potential\n",
    "\n",
    "# Define the Hamiltonian of the infinite square well\n",
    "H_sw = Hamiltonian(particles = SingleParticle(), potential = infinite_square_well, \n",
    "                   spatial_ndim = 1, N = 512, extent = 10*Å)\n",
    "\n",
    "# Diagonalize the Hamiltonian and compute the eigenstates\n",
    "eigenstates_sw = H_sw.solve(max_states = 30)\n",
    "\n",
    "print(eigenstates_sw.energies)\n",
    "\n",
    "# Visualize the infinite square well eigenstates\n",
    "visualization_sw = init_visualization(eigenstates_sw)\n",
    "visualization_sw.plot_eigenstate(0)\n",
    "visualization_sw.plot_eigenstate(1)\n",
    "visualization_sw.plot_eigenstate(2)\n",
    "visualization_sw.plot_eigenstate(3)\n",
    "visualization_sw.plot_eigenstate(4)"
   ]
  },
  {
   "cell_type": "markdown",
   "id": "c2150d0e",
   "metadata": {},
   "source": [
    "<ol start=7>\n",
    "    <li>Plot any three infinite square well eigenstates of your choice.</li>\n",
    "    <li>What property do the infinite square well eigenstates have that's different than the SHO eigenstates? (Hint: think about the properties of valid wave functions we discussed in class on 4/17)</li>\n",
    "    <li>What is the relationship between the number of extrema (maxima plus minima) in each eigenstate plot and the quantum number of the eigenstate?</li>\n",
    "</ol>"
   ]
  },
  {
   "cell_type": "code",
   "execution_count": null,
   "id": "ba4e16ed",
   "metadata": {},
   "outputs": [],
   "source": [
    "#Problem 8:\n",
    "#an infinite squre well is symetrical, while an SHO eigenstate is not always symetrical\n",
    "#Problem 9:\n",
    "#The number of extrema is always an odd number, while the eigenstate is 0 or even"
   ]
  },
  {
   "cell_type": "markdown",
   "id": "04730e6a",
   "metadata": {},
   "source": [
    "### Now it's your turn to define a potential\n",
    "\n",
    "<ol start=10>\n",
    "    <li>Write a function that defines a <em>finite square-well</em> potential (textbook section 5.4). You can choose the width of the well in Angstroms and the potential at the walls in eV. Calculate the finite square-well Hamiltonian and plot any five eigenstates you choose.</li>\n",
    "    <li>Based on your plots, do you think a particle can get out of the finite square-well potential no matter its quantum number $n$?</li>\n",
    "</ol>"
   ]
  },
  {
   "cell_type": "code",
   "execution_count": 29,
   "id": "95023035",
   "metadata": {},
   "outputs": [
    {
     "ename": "NameError",
     "evalue": "name 'Hamiltonian' is not defined",
     "output_type": "error",
     "traceback": [
      "\u001b[0;31m---------------------------------------------------------------------------\u001b[0m",
      "\u001b[0;31mNameError\u001b[0m                                 Traceback (most recent call last)",
      "\u001b[0;32m<ipython-input-29-dd903ba66acb>\u001b[0m in \u001b[0;36m<module>\u001b[0;34m\u001b[0m\n\u001b[1;32m      5\u001b[0m \u001b[0;34m\u001b[0m\u001b[0m\n\u001b[1;32m      6\u001b[0m \u001b[0;31m# Define the Hamiltonian of the infinite square well\u001b[0m\u001b[0;34m\u001b[0m\u001b[0;34m\u001b[0m\u001b[0;34m\u001b[0m\u001b[0m\n\u001b[0;32m----> 7\u001b[0;31m H_sw = Hamiltonian(particles = SingleParticle(), potential = finite_square_well, \n\u001b[0m\u001b[1;32m      8\u001b[0m                    spatial_ndim = 1, N = 512, extent = 20*Å)\n\u001b[1;32m      9\u001b[0m \u001b[0;34m\u001b[0m\u001b[0m\n",
      "\u001b[0;31mNameError\u001b[0m: name 'Hamiltonian' is not defined"
     ]
    }
   ],
   "source": [
    "\n",
    "# 8 angstrom-wide infinite square well\n",
    "def finite_square_well(particle):\n",
    "    k = 100 * eV / Å**2\n",
    "    return 0.5 * k * particle.x**2\n",
    "\n",
    "# Define the Hamiltonian of the infinite square well\n",
    "H_sw = Hamiltonian(particles = SingleParticle(), potential = finite_square_well, \n",
    "                   spatial_ndim = 1, N = 512, extent = 20*Å)\n",
    "\n",
    "# Diagonalize the Hamiltonian and compute the eigenstates\n",
    "eigenstates_sw = H_sw.solve(max_states = 30)\n",
    "\n",
    "print(eigenstates_sw.energies)\n",
    "\n",
    "# Visualize the infinite square well eigenstates\n",
    "visualization_sw = init_visualization(eigenstates_sw)\n",
    "visualization_sw.plot_eigenstate(0)\n",
    "visualization_sw.plot_eigenstate(2)\n",
    "visualization_sw.plot_eigenstate(4)\n",
    "visualization_sw.plot_eigenstate(6)\n",
    "visualization_sw.plot_eigenstate(8)"
   ]
  },
  {
   "cell_type": "code",
   "execution_count": null,
   "id": "3cb5c1b7",
   "metadata": {},
   "outputs": [],
   "source": [
    "#Problem 11:\n",
    "#yes, in a finite square-well there is always a probability the particle can get out of the well"
   ]
  }
 ],
 "metadata": {
  "kernelspec": {
   "display_name": "Python 3",
   "language": "python",
   "name": "python3"
  },
  "language_info": {
   "codemirror_mode": {
    "name": "ipython",
    "version": 3
   },
   "file_extension": ".py",
   "mimetype": "text/x-python",
   "name": "python",
   "nbconvert_exporter": "python",
   "pygments_lexer": "ipython3",
   "version": "3.8.8"
  }
 },
 "nbformat": 4,
 "nbformat_minor": 5
}
